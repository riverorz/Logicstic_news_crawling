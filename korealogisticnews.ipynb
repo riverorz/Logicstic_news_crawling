{
 "cells": [
  {
   "cell_type": "code",
   "execution_count": null,
   "metadata": {},
   "outputs": [],
   "source": [
    "import requests\n",
    "from bs4 import BeautifulSoup\n",
    "import pandas as pd\n",
    "from datetime import datetime\n",
    "import math\n",
    "from datetime import datetime,timedelta\n",
    "import time"
   ]
  },
  {
   "cell_type": "code",
   "execution_count": null,
   "metadata": {},
   "outputs": [],
   "source": [
    "def get_newscontent(l_url) :\n",
    "    news_content = []\n",
    "    text_save = []\n",
    "    logi_url = 'http://www.klnews.co.kr/news/'+l_url\n",
    "    print(logi_url)\n",
    "    get_req = requests.get(logi_url)\n",
    "    get_soup = BeautifulSoup(get_req.content, 'html.parser')\n",
    "    \n",
    "    try:\n",
    "        sub_title = get_soup.select('td.subartView-sub-title')[0].text.replace('“' , '').replace('”','') #부제목\n",
    "    except:\n",
    "        sub_title =''\n",
    "    news_content.append(sub_title)\n",
    "        \n",
    "\n",
    "    \n",
    "    \n",
    "    try:\n",
    "        _text = get_soup.select('div >p')\n",
    "        for i in range(0,len(_text)-1) : #내용저장\n",
    "            text_save.append(get_soup.select('div >p')[i].text)\n",
    "        text_save = ''.join(text_save)\n",
    "    except :\n",
    "        text_save =''\n",
    "    news_content.append(text_save)\n",
    "    \n",
    "    return news_content\n",
    "    \n",
    "    \n",
    "    \n"
   ]
  },
  {
   "cell_type": "code",
   "execution_count": null,
   "metadata": {
    "scrolled": true
   },
   "outputs": [],
   "source": [
    "page = 1\n",
    "url = 'http://www.klnews.co.kr/news/articleList.html?page='+str(page)+'&total=57252&sc_section_code=&sc_sub_section_code=&sc_serial_code=&sc_area=&sc_level=&sc_article_type=&sc_view_level=&sc_sdate=&sc_edate=&sc_serial_number=&sc_word=&sc_word2=&sc_andor=&sc_order_by=E&view_type='\n",
    "req = requests.get(url)\n",
    "soup = BeautifulSoup(req.content, 'html.parser')\n",
    "maxpage = soup.select('font')[1].text\n",
    "maxpage= math.ceil(int(maxpage[6:-2].replace(',',\"\").strip())/20)\n",
    "\n",
    "news_box =[]\n",
    "print('총페이지',maxpage)\n",
    "\n",
    "while page < maxpage +1 :\n",
    "    print('현재페에지', page)\n",
    "    a = 0\n",
    "    for i in range(len(soup.select('td.ArtList_Title > a'))):\n",
    "        \n",
    "        try :\n",
    "            \n",
    "            urls = soup.select('td.ArtList_Title > a')[i]['href']\n",
    "            news_content2 = get_newscontent(urls)\n",
    "            data = soup.select('td.View_SmFont.FontEng')[i].text\n",
    "            classify = soup.select('td.ArtList_Title > font')[i].text.replace('[',\"\").replace(']',\"\")\n",
    "            title = soup.select('td.ArtList_Title > a')[i].text\n",
    "            sub_title= news_content2[0]\n",
    "            contents = news_content2[1]\n",
    "            news_total = [data , classify, title,sub_title,contents]\n",
    "            news_box.append(news_total)\n",
    "                \n",
    "        \n",
    "        except Exception as e:\n",
    "            print(e)\n",
    "        \n",
    "            \n",
    "            \n",
    "    page +=1\n",
    "    time.sleep(2)\n",
    "    url = 'http://www.klnews.co.kr/news/articleList.html?page='+str(page)+'&total=57252&sc_section_code=&sc_sub_section_code=&sc_serial_code=&sc_area=&sc_level=&sc_article_type=&sc_view_level=&sc_sdate=&sc_edate=&sc_serial_number=&sc_word=&sc_word2=&sc_andor=&sc_order_by=E&view_type='\n",
    "    req = requests.get(url)\n",
    "    cont = req.content\n",
    "    soup = BeautifulSoup(cont, 'html.parser')\n",
    "    "
   ]
  },
  {
   "cell_type": "code",
   "execution_count": null,
   "metadata": {},
   "outputs": [],
   "source": [
    "data =pd.DataFrame(news_box)\n",
    "data.columns = ['data', 'class', 'title','subtitle', 'content']\n",
    "data.to_excel('./loginews.xlsx', index =False)"
   ]
  }
 ],
 "metadata": {
  "kernelspec": {
   "display_name": "Python 3",
   "language": "python",
   "name": "python3"
  },
  "language_info": {
   "codemirror_mode": {
    "name": "ipython",
    "version": 3
   },
   "file_extension": ".py",
   "mimetype": "text/x-python",
   "name": "python",
   "nbconvert_exporter": "python",
   "pygments_lexer": "ipython3",
   "version": "3.7.6"
  }
 },
 "nbformat": 4,
 "nbformat_minor": 4
}
